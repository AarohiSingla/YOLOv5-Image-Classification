{
 "cells": [
  {
   "cell_type": "code",
   "execution_count": 1,
   "id": "7c5a6c55",
   "metadata": {},
   "outputs": [],
   "source": [
    "#CUDA 11.3\n",
    "#!pip install torch==1.12.1+cu113 torchvision==0.13.1+cu113 torchaudio==0.12.1 --extra-index-url https://download.pytorch.org/whl/cu113"
   ]
  },
  {
   "cell_type": "code",
   "execution_count": 2,
   "id": "3b530c0e",
   "metadata": {},
   "outputs": [
    {
     "name": "stdout",
     "output_type": "stream",
     "text": [
      "True\n"
     ]
    }
   ],
   "source": [
    "import torch\n",
    "\n",
    "print(torch.cuda.is_available()) \n"
   ]
  },
  {
   "cell_type": "code",
   "execution_count": 3,
   "id": "8651e3c3",
   "metadata": {},
   "outputs": [
    {
     "name": "stdout",
     "output_type": "stream",
     "text": [
      "0\n"
     ]
    },
    {
     "data": {
      "text/plain": [
       "'NVIDIA GeForce RTX 3090'"
      ]
     },
     "execution_count": 3,
     "metadata": {},
     "output_type": "execute_result"
    }
   ],
   "source": [
    "print(torch.cuda.current_device())\n",
    "\n",
    "torch.cuda.get_device_name(0)"
   ]
  },
  {
   "cell_type": "code",
   "execution_count": 6,
   "id": "7fc54b4f",
   "metadata": {},
   "outputs": [
    {
     "name": "stderr",
     "output_type": "stream",
     "text": [
      "Cloning into 'yolov5'...\n"
     ]
    }
   ],
   "source": [
    "!git clone https://github.com/ultralytics/yolov5 \n"
   ]
  },
  {
   "cell_type": "code",
   "execution_count": 7,
   "id": "f4012397",
   "metadata": {},
   "outputs": [
    {
     "name": "stdout",
     "output_type": "stream",
     "text": [
      "D:\\yolov5_v7_env\\image_classification\\yolov5\n"
     ]
    }
   ],
   "source": [
    "%cd yolov5\n",
    "#%pip install -r requirements.txt"
   ]
  },
  {
   "cell_type": "markdown",
   "id": "85a14a27",
   "metadata": {},
   "source": [
    "# Training"
   ]
  },
  {
   "cell_type": "code",
   "execution_count": 9,
   "id": "baa826a4",
   "metadata": {},
   "outputs": [
    {
     "name": "stderr",
     "output_type": "stream",
     "text": [
      "\u001b[34m\u001b[1mclassify\\train: \u001b[0mmodel=yolov5s-cls.pt, data=../custom_dataset, epochs=5, batch_size=64, imgsz=224, nosave=False, cache=ram, device=, workers=8, project=runs\\train-cls, name=exp, exist_ok=False, pretrained=True, optimizer=Adam, lr0=0.001, decay=5e-05, label_smoothing=0.1, cutoff=None, dropout=None, verbose=False, seed=0, local_rank=-1\n",
      "\u001b[34m\u001b[1mgithub: \u001b[0mup to date with https://github.com/ultralytics/yolov5 \n",
      "YOLOv5  v7.0-70-g589edc7 Python-3.9.10 torch-1.12.1+cu113 CUDA:0 (NVIDIA GeForce RTX 3090, 24576MiB)\n",
      "\n",
      "\u001b[34m\u001b[1mTensorBoard: \u001b[0mStart with 'tensorboard --logdir runs\\train-cls', view at http://localhost:6006/\n",
      "\u001b[34m\u001b[1malbumentations: \u001b[0m not found, install with `pip install albumentations` (recommended)\n",
      "Downloading https://github.com/ultralytics/yolov5/releases/download/v7.0/yolov5s-cls.pt to yolov5s-cls.pt...\n",
      "\n",
      "  0%|          | 0.00/10.5M [00:00<?, ?B/s]\n",
      "  7%|7         | 784k/10.5M [00:00<00:01, 8.03MB/s]\n",
      " 18%|#7        | 1.89M/10.5M [00:00<00:00, 10.2MB/s]\n",
      " 28%|##8       | 2.98M/10.5M [00:00<00:00, 10.8MB/s]\n",
      " 38%|###8      | 4.02M/10.5M [00:00<00:00, 8.80MB/s]\n",
      " 49%|####8     | 5.12M/10.5M [00:00<00:00, 9.66MB/s]\n",
      " 60%|#####9    | 6.27M/10.5M [00:00<00:00, 10.3MB/s]\n",
      " 70%|#######   | 7.41M/10.5M [00:00<00:00, 10.8MB/s]\n",
      " 80%|########  | 8.46M/10.5M [00:00<00:00, 8.55MB/s]\n",
      " 91%|#########1| 9.59M/10.5M [00:01<00:00, 9.39MB/s]\n",
      "100%|##########| 10.5M/10.5M [00:01<00:00, 9.74MB/s]\n",
      "\n",
      "Model summary: 149 layers, 4175042 parameters, 4175042 gradients, 10.5 GFLOPs\n",
      "\u001b[34m\u001b[1moptimizer:\u001b[0m Adam(lr=0.001) with parameter groups 32 weight(decay=0.0), 33 weight(decay=5e-05), 33 bias\n",
      "Image sizes 224 train, 224 test\n",
      "Using 8 dataloader workers\n",
      "Logging results to \u001b[1mruns\\train-cls\\exp2\u001b[0m\n",
      "Starting yolov5s-cls.pt training on ..\\custom_dataset dataset with 2 classes for 5 epochs...\n",
      "\n",
      "     Epoch   GPU_mem  train_loss    val_loss    top1_acc    top5_acc\n",
      "\n",
      "  0%|          | 0/21 [00:00<?, ?it/s]\n",
      "       1/5     1.35G       0.748                                    :   5%|4         | 1/21 [00:00<00:07,  2.60it/s]\n",
      "       1/5     1.35G       0.543                                    :  10%|9         | 2/21 [00:00<00:05,  3.67it/s]\n",
      "       1/5     1.35G       0.421                                    :  19%|#9        | 4/21 [00:00<00:02,  6.87it/s]\n",
      "       1/5     1.35G       0.398                                    :  29%|##8       | 6/21 [00:00<00:01,  9.76it/s]\n",
      "       1/5     1.35G       0.394                                    :  38%|###8      | 8/21 [00:00<00:01, 11.52it/s]\n",
      "       1/5     1.35G       0.384                                    :  48%|####7     | 10/21 [00:01<00:00, 13.40it/s]\n",
      "       1/5     1.35G       0.366                                    :  57%|#####7    | 12/21 [00:01<00:00, 14.80it/s]\n",
      "       1/5     1.35G       0.361                                    :  67%|######6   | 14/21 [00:01<00:00, 15.56it/s]\n",
      "       1/5     1.35G       0.356                                    :  76%|#######6  | 16/21 [00:01<00:00, 16.15it/s]\n",
      "       1/5     1.35G       0.351                                    :  86%|########5 | 18/21 [00:01<00:00, 16.18it/s]\n",
      "       1/5     1.36G       0.348                                    :  95%|#########5| 20/21 [00:01<00:00, 16.45it/s]\n",
      "       1/5     1.36G       0.344                          validating:   0%|          | 0/1 [00:00<?, ?it/s]\n",
      "                                                                                                           \n",
      "\n",
      "       1/5     1.36G       0.344       0.331       0.984           1: 100%|##########| 21/21 [00:01<00:00, 12.34it/s]\n",
      "\n",
      "  0%|          | 0/21 [00:00<?, ?it/s]\n",
      "       2/5     1.36G       0.308                                    :  10%|9         | 2/21 [00:00<00:01, 18.35it/s]\n",
      "       2/5     1.36G       0.281                                    :  19%|#9        | 4/21 [00:00<00:00, 18.25it/s]\n",
      "       2/5     1.36G       0.276                                    :  29%|##8       | 6/21 [00:00<00:00, 18.29it/s]\n",
      "       2/5     1.36G       0.266                                    :  38%|###8      | 8/21 [00:00<00:00, 18.32it/s]\n",
      "       2/5     1.36G       0.257                                    :  48%|####7     | 10/21 [00:00<00:00, 18.27it/s]\n",
      "       2/5     1.36G       0.255                                    :  57%|#####7    | 12/21 [00:00<00:00, 18.13it/s]\n",
      "       2/5     1.36G       0.252                                    :  67%|######6   | 14/21 [00:00<00:00, 17.62it/s]\n",
      "       2/5     1.36G       0.248                                    :  76%|#######6  | 16/21 [00:00<00:00, 17.75it/s]\n",
      "       2/5     1.36G       0.248                                    :  86%|########5 | 18/21 [00:01<00:00, 17.63it/s]\n",
      "       2/5     1.36G       0.247                                    :  95%|#########5| 20/21 [00:01<00:00, 17.61it/s]\n",
      "       2/5     1.36G       0.246                          validating:   0%|          | 0/1 [00:00<?, ?it/s]\n",
      "                                                                                                           \n",
      "\n",
      "       2/5     1.36G       0.246       0.279       0.984           1: 100%|##########| 21/21 [00:01<00:00, 17.65it/s]\n",
      "\n",
      "  0%|          | 0/21 [00:00<?, ?it/s]\n",
      "       3/5     1.36G       0.233                                    :  10%|9         | 2/21 [00:00<00:01, 18.87it/s]\n",
      "       3/5     1.36G       0.227                                    :  19%|#9        | 4/21 [00:00<00:00, 18.07it/s]\n",
      "       3/5     1.36G       0.226                                    :  29%|##8       | 6/21 [00:00<00:00, 15.88it/s]\n",
      "       3/5     1.36G       0.223                                    :  38%|###8      | 8/21 [00:00<00:00, 14.94it/s]\n",
      "       3/5     1.36G       0.221                                    :  48%|####7     | 10/21 [00:00<00:00, 14.70it/s]\n",
      "       3/5     1.36G       0.223                                    :  57%|#####7    | 12/21 [00:00<00:00, 15.20it/s]\n",
      "       3/5     1.36G       0.222                                    :  67%|######6   | 14/21 [00:00<00:00, 16.06it/s]\n",
      "       3/5     1.36G       0.223                                    :  76%|#######6  | 16/21 [00:00<00:00, 16.68it/s]\n",
      "       3/5     1.36G       0.222                                    :  86%|########5 | 18/21 [00:01<00:00, 17.07it/s]\n",
      "       3/5     1.36G       0.224                                    :  95%|#########5| 20/21 [00:01<00:00, 17.36it/s]\n",
      "       3/5     1.36G       0.223                          validating:   0%|          | 0/1 [00:00<?, ?it/s]\n",
      "                                                                                                           \n",
      "\n",
      "       3/5     1.36G       0.223       0.255       0.984           1: 100%|##########| 21/21 [00:01<00:00, 16.43it/s]\n",
      "\n",
      "  0%|          | 0/21 [00:00<?, ?it/s]\n",
      "       4/5     1.36G       0.212                                    :  10%|9         | 2/21 [00:00<00:01, 17.09it/s]\n",
      "       4/5     1.36G        0.21                                    :  19%|#9        | 4/21 [00:00<00:00, 17.52it/s]\n",
      "       4/5     1.36G       0.212                                    :  29%|##8       | 6/21 [00:00<00:00, 15.82it/s]\n",
      "       4/5     1.36G       0.214                                    :  38%|###8      | 8/21 [00:00<00:00, 14.12it/s]\n",
      "       4/5     1.36G       0.214                                    :  48%|####7     | 10/21 [00:00<00:00, 15.49it/s]\n",
      "       4/5     1.36G       0.213                                    :  57%|#####7    | 12/21 [00:00<00:00, 16.26it/s]\n",
      "       4/5     1.36G       0.213                                    :  67%|######6   | 14/21 [00:00<00:00, 16.75it/s]\n",
      "       4/5     1.36G       0.212                                    :  76%|#######6  | 16/21 [00:00<00:00, 17.08it/s]\n",
      "       4/5     1.36G       0.212                                    :  86%|########5 | 18/21 [00:01<00:00, 16.86it/s]\n",
      "       4/5     1.36G       0.211                                    :  95%|#########5| 20/21 [00:01<00:00, 17.20it/s]\n",
      "       4/5     1.36G       0.211                          validating:   0%|          | 0/1 [00:00<?, ?it/s]\n",
      "                                                                                                           \n",
      "\n",
      "       4/5     1.36G       0.211       0.261       0.984           1: 100%|##########| 21/21 [00:01<00:00, 16.40it/s]\n",
      "\n",
      "  0%|          | 0/21 [00:00<?, ?it/s]\n",
      "       5/5     1.36G       0.211                                    :  10%|9         | 2/21 [00:00<00:01, 18.87it/s]\n",
      "       5/5     1.36G       0.207                                    :  19%|#9        | 4/21 [00:00<00:00, 18.26it/s]\n",
      "       5/5     1.36G       0.208                                    :  29%|##8       | 6/21 [00:00<00:00, 16.31it/s]\n",
      "       5/5     1.36G       0.208                                    :  38%|###8      | 8/21 [00:00<00:00, 17.00it/s]\n",
      "       5/5     1.36G       0.208                                    :  48%|####7     | 10/21 [00:00<00:00, 17.36it/s]\n",
      "       5/5     1.36G       0.208                                    :  57%|#####7    | 12/21 [00:00<00:00, 17.58it/s]\n",
      "       5/5     1.36G       0.208                                    :  67%|######6   | 14/21 [00:00<00:00, 17.41it/s]\n",
      "       5/5     1.36G       0.208                                    :  76%|#######6  | 16/21 [00:00<00:00, 17.60it/s]\n",
      "       5/5     1.36G       0.208                                    :  86%|########5 | 18/21 [00:01<00:00, 17.34it/s]\n",
      "       5/5     1.36G       0.207                                    :  95%|#########5| 20/21 [00:01<00:00, 17.64it/s]\n",
      "       5/5     1.36G       0.207                          validating:   0%|          | 0/1 [00:00<?, ?it/s]\n",
      "                                                                                                           \n",
      "\n",
      "       5/5     1.36G       0.207       0.249       0.984           1: 100%|##########| 21/21 [00:01<00:00, 17.39it/s]\n",
      "\n",
      "Training complete (0.002 hours)\n",
      "Results saved to \u001b[1mruns\\train-cls\\exp2\u001b[0m\n",
      "Predict:         python classify/predict.py --weights runs\\train-cls\\exp2\\weights\\best.pt --source im.jpg\n",
      "Validate:        python classify/val.py --weights runs\\train-cls\\exp2\\weights\\best.pt --data ..\\custom_dataset\n",
      "Export:          python export.py --weights runs\\train-cls\\exp2\\weights\\best.pt --include onnx\n",
      "PyTorch Hub:     model = torch.hub.load('ultralytics/yolov5', 'custom', 'runs\\train-cls\\exp2\\weights\\best.pt')\n",
      "Visualize:       https://netron.app\n",
      "\n"
     ]
    }
   ],
   "source": [
    "# Train YOLOv5s Classification on Imagenette160 for 3 epochs\n",
    "!python classify/train.py --model yolov5s-cls.pt --data ../custom_dataset --epochs 5 --img 224 --cache"
   ]
  },
  {
   "cell_type": "markdown",
   "id": "dc087c25",
   "metadata": {},
   "source": [
    "# Testing Model"
   ]
  },
  {
   "cell_type": "code",
   "execution_count": 12,
   "id": "4507c860",
   "metadata": {},
   "outputs": [
    {
     "name": "stderr",
     "output_type": "stream",
     "text": [
      "\u001b[34m\u001b[1mclassify\\predict: \u001b[0mweights=['runs/train-cls/exp2/weights/best.pt'], source=../test_data_comp, data=data\\coco128.yaml, imgsz=[224, 224], device=, view_img=False, save_txt=False, nosave=False, augment=False, visualize=False, update=False, project=runs\\predict-cls, name=exp_images, exist_ok=False, half=False, dnn=False, vid_stride=1\n",
      "YOLOv5  v7.0-70-g589edc7 Python-3.9.10 torch-1.12.1+cu113 CUDA:0 (NVIDIA GeForce RTX 3090, 24576MiB)\n",
      "\n",
      "Fusing layers... \n",
      "Model summary: 117 layers, 4169250 parameters, 0 gradients, 10.4 GFLOPs\n",
      "image 1/8 D:\\yolov5_v7_env\\image_classification\\test_data_comp\\1.jpg: 224x224 keyboard 0.92, mouse 0.08, 6.0ms\n",
      "image 2/8 D:\\yolov5_v7_env\\image_classification\\test_data_comp\\2.jpg: 224x224 keyboard 0.95, mouse 0.05, 7.0ms\n",
      "image 3/8 D:\\yolov5_v7_env\\image_classification\\test_data_comp\\3.jpg: 224x224 mouse 0.95, keyboard 0.05, 4.0ms\n",
      "image 4/8 D:\\yolov5_v7_env\\image_classification\\test_data_comp\\4.jpg: 224x224 mouse 0.94, keyboard 0.06, 4.0ms\n",
      "image 5/8 D:\\yolov5_v7_env\\image_classification\\test_data_comp\\key039_jpg.rf.1ef8ca6b93d280c2d0f5ab77e1b9cab4.jpg: 224x224 keyboard 0.89, mouse 0.11, 4.0ms\n",
      "image 6/8 D:\\yolov5_v7_env\\image_classification\\test_data_comp\\key086_jpg.rf.a255b623c6711a79bd7da80c36ee716f.jpg: 224x224 keyboard 0.95, mouse 0.05, 4.0ms\n",
      "image 7/8 D:\\yolov5_v7_env\\image_classification\\test_data_comp\\key101_jpg.rf.7f576737a9509df21a23c021700fc1f9.jpg: 224x224 keyboard 0.89, mouse 0.11, 4.0ms\n",
      "image 8/8 D:\\yolov5_v7_env\\image_classification\\test_data_comp\\ms174_jpg.rf.47444857bef18099fee1f3192daa2558.jpg: 224x224 mouse 0.97, keyboard 0.03, 4.0ms\n",
      "Speed: 0.0ms pre-process, 4.6ms inference, 0.1ms NMS per image at shape (1, 3, 224, 224)\n",
      "Results saved to \u001b[1mruns\\predict-cls\\exp_images\u001b[0m\n"
     ]
    }
   ],
   "source": [
    "!python classify/predict.py --weights runs/train-cls/exp2/weights/best.pt --img 224 --source ../test_data_comp  --name exp_images\n"
   ]
  },
  {
   "cell_type": "code",
   "execution_count": null,
   "id": "104be567",
   "metadata": {},
   "outputs": [],
   "source": []
  }
 ],
 "metadata": {
  "kernelspec": {
   "display_name": "Python 3 (ipykernel)",
   "language": "python",
   "name": "python3"
  },
  "language_info": {
   "codemirror_mode": {
    "name": "ipython",
    "version": 3
   },
   "file_extension": ".py",
   "mimetype": "text/x-python",
   "name": "python",
   "nbconvert_exporter": "python",
   "pygments_lexer": "ipython3",
   "version": "3.9.10"
  }
 },
 "nbformat": 4,
 "nbformat_minor": 5
}
